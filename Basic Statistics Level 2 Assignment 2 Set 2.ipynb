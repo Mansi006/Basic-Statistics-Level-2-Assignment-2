{
 "cells": [
  {
   "cell_type": "markdown",
   "id": "d437fa72",
   "metadata": {},
   "source": [
    "# Set 2"
   ]
  },
  {
   "cell_type": "code",
   "execution_count": 59,
   "id": "bcf655bd",
   "metadata": {},
   "outputs": [],
   "source": [
    "import numpy as np\n",
    "from scipy import stats\n",
    "from scipy.stats import norm"
   ]
  },
  {
   "cell_type": "markdown",
   "id": "e2536fa7",
   "metadata": {},
   "source": [
    "# Q.1."
   ]
  },
  {
   "cell_type": "code",
   "execution_count": 60,
   "id": "69a0d35d",
   "metadata": {},
   "outputs": [
    {
     "data": {
      "text/plain": [
       "0.26598552904870054"
      ]
     },
     "execution_count": 60,
     "metadata": {},
     "output_type": "execute_result"
    }
   ],
   "source": [
    "1-stats.norm.cdf(60,loc=55,scale=8)"
   ]
  },
  {
   "cell_type": "code",
   "execution_count": null,
   "id": "733e7903",
   "metadata": {},
   "outputs": [],
   "source": []
  },
  {
   "cell_type": "markdown",
   "id": "a9791f1b",
   "metadata": {},
   "source": [
    "# Q.2.a."
   ]
  },
  {
   "cell_type": "code",
   "execution_count": 61,
   "id": "2107aa1b",
   "metadata": {},
   "outputs": [
    {
     "data": {
      "text/plain": [
       "0.15865525393145707"
      ]
     },
     "execution_count": 61,
     "metadata": {},
     "output_type": "execute_result"
    }
   ],
   "source": [
    "#Z-score for 44\n",
    "1-stats.norm.cdf(44,loc=38,scale=6)"
   ]
  },
  {
   "cell_type": "code",
   "execution_count": 62,
   "id": "c3d3c290",
   "metadata": {},
   "outputs": [
    {
     "data": {
      "text/plain": [
       "0.3413447460685429"
      ]
     },
     "execution_count": 62,
     "metadata": {},
     "output_type": "execute_result"
    }
   ],
   "source": [
    "#Z-score between 38 and 44\n",
    "stats.norm.cdf(44,loc=38,scale=6)-stats.norm.cdf(38,loc=38,scale=6)"
   ]
  },
  {
   "cell_type": "code",
   "execution_count": null,
   "id": "8124350e",
   "metadata": {},
   "outputs": [],
   "source": []
  },
  {
   "cell_type": "markdown",
   "id": "57855bd6",
   "metadata": {},
   "source": [
    "# Q.2.b."
   ]
  },
  {
   "cell_type": "code",
   "execution_count": 63,
   "id": "cf43b86d",
   "metadata": {},
   "outputs": [
    {
     "data": {
      "text/plain": [
       "0.09121121972586788"
      ]
     },
     "execution_count": 63,
     "metadata": {},
     "output_type": "execute_result"
    }
   ],
   "source": [
    "# P(X<30)\n",
    "stats.norm.cdf(30,loc=38,scale=6)"
   ]
  },
  {
   "cell_type": "code",
   "execution_count": 64,
   "id": "feb72e39",
   "metadata": {},
   "outputs": [
    {
     "data": {
      "text/plain": [
       "36.484487890347154"
      ]
     },
     "execution_count": 64,
     "metadata": {},
     "output_type": "execute_result"
    }
   ],
   "source": [
    "# N*P(X<30)\n",
    "400*stats.norm.cdf(30,loc=38,scale=6)"
   ]
  },
  {
   "cell_type": "code",
   "execution_count": null,
   "id": "6b8e7e69",
   "metadata": {},
   "outputs": [],
   "source": []
  },
  {
   "cell_type": "markdown",
   "id": "5acf60df",
   "metadata": {},
   "source": [
    "# Q.4."
   ]
  },
  {
   "cell_type": "code",
   "execution_count": 65,
   "id": "b6453efe",
   "metadata": {},
   "outputs": [
    {
     "data": {
      "text/plain": [
       "(48.48341392902199, 151.516586070978)"
      ]
     },
     "execution_count": 65,
     "metadata": {},
     "output_type": "execute_result"
    }
   ],
   "source": [
    "stats.norm.interval(0.99,100,20)"
   ]
  },
  {
   "cell_type": "code",
   "execution_count": null,
   "id": "53adf166",
   "metadata": {},
   "outputs": [],
   "source": []
  },
  {
   "cell_type": "markdown",
   "id": "19d60222",
   "metadata": {},
   "source": [
    "# Q.5.a."
   ]
  },
  {
   "cell_type": "code",
   "execution_count": 66,
   "id": "6fa6641c",
   "metadata": {},
   "outputs": [
    {
     "name": "stdout",
     "output_type": "stream",
     "text": [
      "Mean Profit is Rs 540 Million\n"
     ]
    }
   ],
   "source": [
    "Mean = 5+7\n",
    "print('Mean Profit is Rs', Mean*45,'Million')"
   ]
  },
  {
   "cell_type": "code",
   "execution_count": 73,
   "id": "d6e34348",
   "metadata": {},
   "outputs": [],
   "source": [
    "Std_deviation= ((3^2)+(4^2))"
   ]
  },
  {
   "cell_type": "code",
   "execution_count": 74,
   "id": "29389473",
   "metadata": {},
   "outputs": [
    {
     "data": {
      "text/plain": [
       "7"
      ]
     },
     "execution_count": 74,
     "metadata": {},
     "output_type": "execute_result"
    }
   ],
   "source": [
    "Std_deviation"
   ]
  },
  {
   "cell_type": "code",
   "execution_count": 75,
   "id": "028c74ae",
   "metadata": {},
   "outputs": [
    {
     "data": {
      "text/plain": [
       "315"
      ]
     },
     "execution_count": 75,
     "metadata": {},
     "output_type": "execute_result"
    }
   ],
   "source": [
    "SD*45"
   ]
  },
  {
   "cell_type": "code",
   "execution_count": 53,
   "id": "213111e2",
   "metadata": {},
   "outputs": [
    {
     "name": "stdout",
     "output_type": "stream",
     "text": [
      "-77.38865513011706 1157.388655130117\n"
     ]
    }
   ],
   "source": [
    "a, b = norm.interval(alpha=0.95, loc=540, scale=315)\n",
    "print(a,b)"
   ]
  },
  {
   "cell_type": "code",
   "execution_count": 54,
   "id": "65ba606e",
   "metadata": {},
   "outputs": [
    {
     "data": {
      "text/plain": [
       "-77.38865513011706"
      ]
     },
     "execution_count": 54,
     "metadata": {},
     "output_type": "execute_result"
    }
   ],
   "source": [
    "a"
   ]
  },
  {
   "cell_type": "code",
   "execution_count": 55,
   "id": "ca15b0fc",
   "metadata": {},
   "outputs": [
    {
     "data": {
      "text/plain": [
       "1157.388655130117"
      ]
     },
     "execution_count": 55,
     "metadata": {},
     "output_type": "execute_result"
    }
   ],
   "source": [
    "b"
   ]
  },
  {
   "cell_type": "code",
   "execution_count": 56,
   "id": "c36ea9c5",
   "metadata": {},
   "outputs": [
    {
     "name": "stdout",
     "output_type": "stream",
     "text": [
      "Range is Rs (99.00810347848784, 980.9918965215122) in Millions\n"
     ]
    }
   ],
   "source": [
    "print('Range is Rs',(stats.norm.interval(0.95,540,225)),'in Millions')"
   ]
  },
  {
   "cell_type": "code",
   "execution_count": null,
   "id": "156bef2e",
   "metadata": {},
   "outputs": [],
   "source": []
  },
  {
   "cell_type": "markdown",
   "id": "355c7d2e",
   "metadata": {},
   "source": [
    "# Q.5.b."
   ]
  },
  {
   "cell_type": "code",
   "execution_count": 11,
   "id": "a33bcc47",
   "metadata": {},
   "outputs": [
    {
     "name": "stdout",
     "output_type": "stream",
     "text": [
      "5th percentile of profit is 170 (in Million Rupees)\n"
     ]
    }
   ],
   "source": [
    "X= 540+(-1.645)*(225)\n",
    "print('5th percentile of profit is',round(X),'(in Million Rupees)')"
   ]
  },
  {
   "cell_type": "code",
   "execution_count": null,
   "id": "bc4303ad",
   "metadata": {},
   "outputs": [],
   "source": []
  },
  {
   "cell_type": "markdown",
   "id": "ebbc56aa",
   "metadata": {},
   "source": [
    "# Q.5.c."
   ]
  },
  {
   "cell_type": "code",
   "execution_count": 12,
   "id": "aafc92e1",
   "metadata": {},
   "outputs": [
    {
     "data": {
      "text/plain": [
       "0.0477903522728147"
      ]
     },
     "execution_count": 12,
     "metadata": {},
     "output_type": "execute_result"
    }
   ],
   "source": [
    "# Probability of Division 1 making a loss P(X<0)\n",
    "stats.norm.cdf(0,5,3)"
   ]
  },
  {
   "cell_type": "code",
   "execution_count": 13,
   "id": "29f15e3e",
   "metadata": {},
   "outputs": [
    {
     "data": {
      "text/plain": [
       "0.040059156863817086"
      ]
     },
     "execution_count": 13,
     "metadata": {},
     "output_type": "execute_result"
    }
   ],
   "source": [
    "# Probability of Division 2 making a loss P(X<0)\n",
    "stats.norm.cdf(0,7,4)"
   ]
  },
  {
   "cell_type": "code",
   "execution_count": null,
   "id": "8473ec91",
   "metadata": {},
   "outputs": [],
   "source": []
  },
  {
   "cell_type": "code",
   "execution_count": null,
   "id": "21143aec",
   "metadata": {},
   "outputs": [],
   "source": []
  },
  {
   "cell_type": "code",
   "execution_count": null,
   "id": "57ccd356",
   "metadata": {},
   "outputs": [],
   "source": []
  }
 ],
 "metadata": {
  "kernelspec": {
   "display_name": "Python 3 (ipykernel)",
   "language": "python",
   "name": "python3"
  },
  "language_info": {
   "codemirror_mode": {
    "name": "ipython",
    "version": 3
   },
   "file_extension": ".py",
   "mimetype": "text/x-python",
   "name": "python",
   "nbconvert_exporter": "python",
   "pygments_lexer": "ipython3",
   "version": "3.9.12"
  }
 },
 "nbformat": 4,
 "nbformat_minor": 5
}
